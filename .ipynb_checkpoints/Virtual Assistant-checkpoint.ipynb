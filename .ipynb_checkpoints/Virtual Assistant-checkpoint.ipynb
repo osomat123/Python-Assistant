{
 "cells": [
  {
   "cell_type": "code",
   "execution_count": 1,
   "metadata": {},
   "outputs": [],
   "source": [
    "import os\n",
    "import sys\n",
    "import pyttsx3"
   ]
  },
  {
   "cell_type": "markdown",
   "metadata": {},
   "source": [
    "# Version 1.0"
   ]
  },
  {
   "cell_type": "code",
   "execution_count": 2,
   "metadata": {},
   "outputs": [
    {
     "name": "stdout",
     "output_type": "stream",
     "text": [
      "Welcome to tools\n",
      "\n",
      "Press 1 to open Slack\n",
      "Press 2 to open Whatsapp\n",
      "Press 3 to open Atom\n",
      "Press 4 to open Pycharm\n",
      "Press 5 to open VLC\n",
      "\n",
      "Your Choice -> 3\n",
      "Opening...\n"
     ]
    },
    {
     "data": {
      "text/plain": [
       "0"
      ]
     },
     "execution_count": 2,
     "metadata": {},
     "output_type": "execute_result"
    }
   ],
   "source": [
    "print(\"Welcome to tools\\n\")\n",
    "pyttsx3.speak(\"Welcome to tools\")\n",
    "\n",
    "print(\"Press 1 to open Slack\")\n",
    "print(\"Press 2 to open Whatsapp\")\n",
    "print(\"Press 3 to open Atom\")\n",
    "print(\"Press 4 to open Pycharm\")\n",
    "print(\"Press 5 to open VLC\\n\")\n",
    "\n",
    "app = int(input(\"Your Choice -> \"))\n",
    "command = ''\n",
    "\n",
    "if app == 1:\n",
    "    command = 'open /Applications/Slack.app'\n",
    "    print('Opening...')\n",
    "    \n",
    "elif app == 2:\n",
    "    command = 'open /Applications/Whatsapp.app'\n",
    "    print('Opening...')\n",
    "    \n",
    "elif app == 3:\n",
    "    command = 'open /Applications/Atom.app'\n",
    "    print('Opening...')\n",
    "    \n",
    "elif app == 4:\n",
    "    command = 'open /Applications/Pycharm\\ CE.app'\n",
    "    print('Opening...')\n",
    "    \n",
    "elif app == 5:\n",
    "    command = 'open /Applications/VLC.app'\n",
    "    print('Opening...')\n",
    "    \n",
    "else:\n",
    "    print('Invalid Input')\n",
    "    \n",
    "os.system(command)    "
   ]
  },
  {
   "cell_type": "markdown",
   "metadata": {},
   "source": [
    "# Version 1.1"
   ]
  },
  {
   "cell_type": "code",
   "execution_count": 71,
   "metadata": {},
   "outputs": [],
   "source": [
    "def getApps():\n",
    "    apps = {}\n",
    "    \n",
    "    for (path,app,file) in os.walk('/Applications'):\n",
    "        if path.endswith('.app') and path.count('.app') == 1:\n",
    "            app = path[1:].split('/')[-1].replace('.app','')  # Get app name\n",
    "            path = path.replace(' ','\\ ') # Set app path\n",
    "            apps[app] = path\n",
    "        \n",
    "    for (path,app,file) in os.walk('/System/Applications'):\n",
    "        if path.endswith('.app') and path.count('.app') == 1:\n",
    "            app = path[1:].split('/')[-1].replace('.app','') # Get app name\n",
    "            path = path.replace(' ','\\ ') # Set app path\n",
    "            apps[app] = path\n",
    "    \n",
    "    return apps"
   ]
  },
  {
   "cell_type": "code",
   "execution_count": 78,
   "metadata": {},
   "outputs": [
    {
     "name": "stdout",
     "output_type": "stream",
     "text": [
      "Initializing...\n",
      "\n",
      "Welcome to tools\n",
      "How can I help?\n",
      "\n",
      "Type here -> rtyiop\n",
      "Application not found. Try Again!\n"
     ]
    }
   ],
   "source": [
    "print(\"Initializing...\\n\")\n",
    "apps = getApps()\n",
    "\n",
    "print(\"Welcome to tools\")\n",
    "pyttsx3.speak(\"Welcome to tools\")\n",
    "\n",
    "print(\"How can I help?\\n\")\n",
    "pyttsx3.speak(\"How can I help?\")\n",
    "\n",
    "query = input(\"Type here -> \").upper()\n",
    "command = ''\n",
    "\n",
    "for app in apps.keys():\n",
    "    if app.upper() in query:\n",
    "        command = 'open '+apps[app]\n",
    "        \n",
    "        print(\"Opening \"+app+\" ...\")\n",
    "        pyttsx3.speak(\"Opening \"+app)\n",
    "        \n",
    "        os.system(command)\n",
    "        break\n",
    "        \n",
    "if command == '':\n",
    "    print('Application not found. Try Again!')\n",
    "    pyttsx3.speak(\"Application not found. Try Again!\")\n",
    "    "
   ]
  },
  {
   "cell_type": "code",
   "execution_count": null,
   "metadata": {},
   "outputs": [],
   "source": []
  }
 ],
 "metadata": {
  "kernelspec": {
   "display_name": "Python 3",
   "language": "python",
   "name": "python3"
  },
  "language_info": {
   "codemirror_mode": {
    "name": "ipython",
    "version": 3
   },
   "file_extension": ".py",
   "mimetype": "text/x-python",
   "name": "python",
   "nbconvert_exporter": "python",
   "pygments_lexer": "ipython3",
   "version": "3.7.7"
  }
 },
 "nbformat": 4,
 "nbformat_minor": 4
}
