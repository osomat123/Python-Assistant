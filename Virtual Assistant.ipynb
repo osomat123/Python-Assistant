{
 "cells": [
  {
   "cell_type": "code",
   "execution_count": 5,
   "metadata": {},
   "outputs": [],
   "source": [
    "import os\n",
    "import sys\n",
    "import pyttsx3"
   ]
  },
  {
   "cell_type": "markdown",
   "metadata": {},
   "source": [
    "# Version 1.0"
   ]
  },
  {
   "cell_type": "code",
   "execution_count": 9,
   "metadata": {},
   "outputs": [
    {
     "name": "stdout",
     "output_type": "stream",
     "text": [
      "Welcome to tools\n",
      "\n",
      "Press 1 to open Slack\n",
      "Press 2 to open Whatsapp\n",
      "Press 3 to open Atom\n",
      "Press 4 to open Pycharm\n",
      "Press 5 to open VLC\n",
      "\n",
      "Your Choice -> 4\n",
      "Opening...\n"
     ]
    },
    {
     "data": {
      "text/plain": [
       "0"
      ]
     },
     "execution_count": 9,
     "metadata": {},
     "output_type": "execute_result"
    }
   ],
   "source": [
    "print(\"Welcome to tools\\n\")\n",
    "pyttsx3.speak(\"Welcome to tools\")\n",
    "\n",
    "print(\"Press 1 to open Slack\")\n",
    "print(\"Press 2 to open Whatsapp\")\n",
    "print(\"Press 3 to open Atom\")\n",
    "print(\"Press 4 to open Pycharm\")\n",
    "print(\"Press 5 to open VLC\\n\")\n",
    "\n",
    "app = int(input(\"Your Choice -> \"))\n",
    "command = ''\n",
    "\n",
    "if app == 1:\n",
    "    command = 'open /Applications/Slack.app'\n",
    "    print('Opening...')\n",
    "    \n",
    "elif app == 2:\n",
    "    command = 'open /Applications/Whatsapp.app'\n",
    "    print('Opening...')\n",
    "    \n",
    "elif app == 3:\n",
    "    command = 'open /Applications/Atom.app'\n",
    "    print('Opening...')\n",
    "    \n",
    "elif app == 4:\n",
    "    command = 'open /Applications/Pycharm\\ CE.app'\n",
    "    print('Opening...')\n",
    "    \n",
    "elif app == 5:\n",
    "    command = 'open /Applications/VLC.app'\n",
    "    print('Opening...')\n",
    "    \n",
    "else:\n",
    "    print('Invalid Input')\n",
    "    \n",
    "os.system(command)    "
   ]
  },
  {
   "cell_type": "code",
   "execution_count": null,
   "metadata": {},
   "outputs": [],
   "source": []
  }
 ],
 "metadata": {
  "kernelspec": {
   "display_name": "Python 3",
   "language": "python",
   "name": "python3"
  },
  "language_info": {
   "codemirror_mode": {
    "name": "ipython",
    "version": 3
   },
   "file_extension": ".py",
   "mimetype": "text/x-python",
   "name": "python",
   "nbconvert_exporter": "python",
   "pygments_lexer": "ipython3",
   "version": "3.7.7"
  }
 },
 "nbformat": 4,
 "nbformat_minor": 4
}
