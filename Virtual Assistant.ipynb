{
 "cells": [
  {
   "cell_type": "code",
   "execution_count": 1,
   "metadata": {},
   "outputs": [],
   "source": [
    "import os\n",
    "import pyttsx3\n",
    "import json"
   ]
  },
  {
   "cell_type": "markdown",
   "metadata": {},
   "source": [
    "# Version 1.0"
   ]
  },
  {
   "cell_type": "code",
   "execution_count": null,
   "metadata": {},
   "outputs": [],
   "source": [
    "print(\"Welcome to tools\\n\")\n",
    "pyttsx3.speak(\"Welcome to tools\")\n",
    "\n",
    "print(\"Press 1 to open Slack\")\n",
    "print(\"Press 2 to open Whatsapp\")\n",
    "print(\"Press 3 to open Atom\")\n",
    "print(\"Press 4 to open Pycharm\")\n",
    "print(\"Press 5 to open VLC\\n\")\n",
    "\n",
    "app = int(input(\"Your Choice -> \"))\n",
    "command = ''\n",
    "\n",
    "if app == 1:\n",
    "    command = 'open /Applications/Slack.app'\n",
    "    print('Opening...')\n",
    "    \n",
    "elif app == 2:\n",
    "    command = 'open /Applications/Whatsapp.app'\n",
    "    print('Opening...')\n",
    "    \n",
    "elif app == 3:\n",
    "    command = 'open /Applications/Atom.app'\n",
    "    print('Opening...')\n",
    "    \n",
    "elif app == 4:\n",
    "    command = 'open /Applications/Pycharm\\ CE.app'\n",
    "    print('Opening...')\n",
    "    \n",
    "elif app == 5:\n",
    "    command = 'open /Applications/VLC.app'\n",
    "    print('Opening...')\n",
    "    \n",
    "else:\n",
    "    print('Invalid Input')\n",
    "    \n",
    "os.system(command)    "
   ]
  },
  {
   "cell_type": "markdown",
   "metadata": {},
   "source": [
    "# Version 1.2"
   ]
  },
  {
   "cell_type": "code",
   "execution_count": 7,
   "metadata": {},
   "outputs": [],
   "source": [
    "def getApps():\n",
    "    \n",
    "    try:\n",
    "        with open(\"apps.json\",\"r\") as read_file:\n",
    "            strApps = read_file.read()\n",
    "            apps = eval(json.loads(strApps))\n",
    "        \n",
    "    except FileNotFoundError:\n",
    "        \n",
    "        apps = {}\n",
    "\n",
    "        for (path,app,file) in os.walk('/Applications'):\n",
    "            if path.endswith('.app') and path.count('.app') == 1:\n",
    "                app = path[1:].split('/')[-1].replace('.app','')  # Get app name\n",
    "                path = path.replace(' ','\\ ') # Set app path\n",
    "                apps[app] = path\n",
    "\n",
    "        for (path,app,file) in os.walk('/System/Applications'):\n",
    "            if path.endswith('.app') and path.count('.app') == 1:\n",
    "                app = path[1:].split('/')[-1].replace('.app','') # Get app name\n",
    "                path = path.replace(' ','\\ ') # Set app path\n",
    "                apps[app] = path\n",
    "                \n",
    "        with open(\"apps.json\",'w') as file:\n",
    "            file.write(json.dumps(str(apps)))\n",
    "    \n",
    "    return apps"
   ]
  },
  {
   "cell_type": "code",
   "execution_count": 12,
   "metadata": {},
   "outputs": [],
   "source": [
    "def addNick(apps,nick,longApp):\n",
    "    \n",
    "    flag = 0\n",
    "    \n",
    "    for app in apps.keys():\n",
    "        if app.upper() == longApp:\n",
    "            apps[longApp] = apps[app]\n",
    "            flag = 1\n",
    "    \n",
    "    if flag ==0:\n",
    "        return None\n",
    "    \n",
    "    with open(\"apps.json\",'w') as file:\n",
    "        file.write(json.dumps(str(apps)))\n",
    "    \n",
    "    return apps"
   ]
  },
  {
   "cell_type": "code",
   "execution_count": 15,
   "metadata": {},
   "outputs": [
    {
     "name": "stdout",
     "output_type": "stream",
     "text": [
      "Initializing...\n",
      "\n",
      "Welcome to Py Assistant\n",
      "How can I help?\n",
      "\n",
      "Type 'help' if you're confused\n",
      "\n",
      "Type here -> can you please open Raspberry Pi Imager for me?\n",
      "Opening Raspberry Pi Imager ...\n",
      "\n",
      "Type here -> can you run ColorSync Utility for me\n",
      "Opening ColorSync Utility ...\n",
      "\n",
      "Type here -> ren open\n",
      "Application not found. Try Again!\n",
      "\n",
      "Type here -> open Tarminal\n",
      "Application not found. Try Again!\n",
      "\n",
      "Type here -> close\n",
      "Application not found. Try Again!\n",
      "\n",
      "Type here -> hide\n",
      "Sorry, operation not supported\n",
      "\n",
      "Type here -> exit\n",
      "Bye!\n",
      "\n"
     ]
    }
   ],
   "source": [
    "print(\"Initializing...\\n\")\n",
    "valid = ['RUN','OPEN','EXECUTE','BYE','EXIT','QUIT','ADD NICKNAME','HELP','STOP']\n",
    "apps = getApps()\n",
    "\n",
    "print(\"Welcome to Py Assistant\")\n",
    "print(\"How can I help?\\n\")\n",
    "pyttsx3.speak(\"Welcome to Py Assistant....How can I help?\")\n",
    "\n",
    "print(\"Type 'help' if you're confused\\n\")\n",
    "pyttsx3.speak(\"Type help if you're confused\")\n",
    "\n",
    "while True:\n",
    "    \n",
    "    query = input(\"Type here -> \").upper()\n",
    "    appFound = 0\n",
    "    commandValid = 0\n",
    "    \n",
    "    for command in valid:\n",
    "        if command in query:\n",
    "            commandValid = 1\n",
    "            break\n",
    "    \n",
    "    if commandValid == 0:\n",
    "        print('Sorry, operation not supported\\n')\n",
    "        pyttsx3.speak('Sorry, operation not supported.')\n",
    "        continue\n",
    "\n",
    "    if \"HELP\" in query:\n",
    "        f = open(\"help.txt\",'r')\n",
    "        print(f.read())\n",
    "        f.close()\n",
    "        continue\n",
    "        \n",
    "    if (\"BYE\" == query) or (\"EXIT\" == query) or (\"QUIT\" == query) or ('STOP' == query):\n",
    "        print(\"Bye!\\n\")\n",
    "        pyttsx3.speak(\"Bye.\")\n",
    "        break\n",
    "        \n",
    "    if 'ADD NICKNAME'in query:\n",
    "        names = [i.strip() for i in query.split('FOR')]\n",
    "        nick = names[0][13:]\n",
    "        longApp = names[1]\n",
    "        \n",
    "        if nick in apps:\n",
    "            print(\"Nickname already exists. Give another nickname.\\n\")\n",
    "            pyttsx3.speak(\"Nickname already exists. Give another nickname\")\n",
    "            continue\n",
    "        \n",
    "        ret = addNick(apps,nick,longApp)\n",
    "        \n",
    "        if ret != None:\n",
    "            app = ret\n",
    "            print(\"Nickname added.\\n\")\n",
    "            pyttsx3.speak(\"Nickname added.\")\n",
    "            break\n",
    "            \n",
    "    if ('RUN' in query) or ('OPEN' in query) or ('EXECUTE' in query):\n",
    "        for app in apps.keys():\n",
    "            if app.upper() in query:\n",
    "                command = 'open '+apps[app]\n",
    "                print(\"Opening \"+app+\" ...\\n\")\n",
    "                pyttsx3.speak(\"Opening \"+app)\n",
    "                os.system(command)\n",
    "                appFound = 1\n",
    "                break        \n",
    "\n",
    "    if appFound == 0:\n",
    "        print('Application not found. Try Again!\\n')\n",
    "        pyttsx3.speak(\"Application not found. Try Again!\")\n"
   ]
  },
  {
   "cell_type": "code",
   "execution_count": null,
   "metadata": {},
   "outputs": [],
   "source": [
    "q = 'add nickname chrome for Google Chrome'"
   ]
  },
  {
   "cell_type": "code",
   "execution_count": null,
   "metadata": {},
   "outputs": [],
   "source": [
    "arr = [i.strip() for i in q.split('for')]"
   ]
  },
  {
   "cell_type": "code",
   "execution_count": null,
   "metadata": {},
   "outputs": [],
   "source": [
    "arr[0][13:]"
   ]
  },
  {
   "cell_type": "code",
   "execution_count": null,
   "metadata": {},
   "outputs": [],
   "source": [
    "len('add nickname ')"
   ]
  },
  {
   "cell_type": "code",
   "execution_count": null,
   "metadata": {},
   "outputs": [],
   "source": [
    "d = {'1':'one','2':'two','3':'three'}"
   ]
  },
  {
   "cell_type": "code",
   "execution_count": null,
   "metadata": {},
   "outputs": [],
   "source": [
    "'1' in d"
   ]
  },
  {
   "cell_type": "code",
   "execution_count": 10,
   "metadata": {},
   "outputs": [],
   "source": [
    "def inc(a):\n",
    "    a += 5"
   ]
  },
  {
   "cell_type": "code",
   "execution_count": 11,
   "metadata": {},
   "outputs": [
    {
     "data": {
      "text/plain": [
       "10"
      ]
     },
     "execution_count": 11,
     "metadata": {},
     "output_type": "execute_result"
    }
   ],
   "source": [
    "a = 10\n",
    "inc(a)\n",
    "a"
   ]
  },
  {
   "cell_type": "code",
   "execution_count": null,
   "metadata": {},
   "outputs": [],
   "source": []
  }
 ],
 "metadata": {
  "kernelspec": {
   "display_name": "Python 3",
   "language": "python",
   "name": "python3"
  },
  "language_info": {
   "codemirror_mode": {
    "name": "ipython",
    "version": 3
   },
   "file_extension": ".py",
   "mimetype": "text/x-python",
   "name": "python",
   "nbconvert_exporter": "python",
   "pygments_lexer": "ipython3",
   "version": "3.7.7"
  }
 },
 "nbformat": 4,
 "nbformat_minor": 4
}
